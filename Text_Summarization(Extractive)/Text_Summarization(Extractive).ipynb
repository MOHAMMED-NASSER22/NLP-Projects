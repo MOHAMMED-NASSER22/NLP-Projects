{
 "cells": [
  {
   "cell_type": "markdown",
   "id": "1ae2d10f",
   "metadata": {},
   "source": [
    "the code flow to generate summarize text:-\n",
    "\n",
    "Input article → split into sentences → remove stop words → build a similarity matrix → generate rank based on matrix → pick top N sentences for summary."
   ]
  },
  {
   "cell_type": "markdown",
   "id": "7368f4b2",
   "metadata": {},
   "source": [
    "# nltk ( cosine_Similarity - PageRank )"
   ]
  },
  {
   "cell_type": "code",
   "execution_count": 1,
   "id": "0a2719c4",
   "metadata": {},
   "outputs": [],
   "source": [
    "import nltk\n",
    "from nltk.corpus import stopwords\n",
    "from nltk.cluster.util import cosine_distance \n",
    "import numpy as np \n",
    "import networkx as nx"
   ]
  },
  {
   "cell_type": "code",
   "execution_count": 2,
   "id": "556033d9",
   "metadata": {},
   "outputs": [],
   "source": [
    "text = \"\"\"In an attempt to build an AI-ready workforce, Microsoft announced Intelligent Cloud Hub\n",
    "          which has been launched to empower the next generation of students with AI-ready skills.\n",
    "         Envisioned as a three-year collaborative program, Intelligent Cloud Hub will support around 100\n",
    "          institutions with AI infrastructure, course content and curriculum, developer support,\n",
    "          development tools and give students access to cloud and AI services.\n",
    "          As part of the program, the Redmond giant which wants to expand its reach and is\n",
    "          planning to build a strong developer ecosystem in India with the program will set up the\n",
    "          core AI infrastructure and IoT Hub for the selected campuses.\n",
    "          The company will provide AI development tools and Azure AI services such as\n",
    "          Microsoft Cognitive Services, Bot Services and Azure Machine Learning.\n",
    "          According to Manish Prakash, Country General Manager-PS, Health and Education,\n",
    "          Microsoft India, said, \"With AI being the defining technology of our time,\n",
    "          it is transforming lives and industry and the jobs of tomorrow will\n",
    "          require a different skillset. This will require more collaborations and\n",
    "          training and working with AI. That’s why it has become more critical than ever for\n",
    "          educational institutions to integrate new cloud and AI technologies.\n",
    "          The program is an attempt to ramp up the institutional set-up and build\n",
    "          capabilities among the educators to educate the workforce of tomorrow.\"\n",
    "          The program aims to build up the cognitive skills and in-depth understanding of\n",
    "          developing intelligent cloud connected solutions for applications across industry.\n",
    "          Earlier in April this year, the company announced Microsoft Professional\n",
    "          Program In AI as a learning track open to the public.\n",
    "          The program was developed to provide job ready skills to programmers who wanted to hone their\n",
    "          skills in AI and data science with a series of online courses which featured hands-on labs and expert instructors as well.\n",
    "          This program also included developer-focused AI school that provided a bunch of assets to help build AI skills.\"\"\"\n"
   ]
  },
  {
   "cell_type": "code",
   "execution_count": 3,
   "id": "07cde2ab",
   "metadata": {},
   "outputs": [],
   "source": [
    "# remove duplicated spaces\n",
    "text = ' '.join(text.split())\n"
   ]
  },
  {
   "cell_type": "code",
   "execution_count": 4,
   "id": "f47b4c01",
   "metadata": {},
   "outputs": [],
   "source": [
    "def tokenize(text):\n",
    "    \n",
    "    sentences = nltk.sent_tokenize(text)\n",
    "    words = [nltk.word_tokenize(sent) for sent in sentences]\n",
    "\n",
    "    return words"
   ]
  },
  {
   "cell_type": "code",
   "execution_count": 5,
   "id": "1a62b786",
   "metadata": {},
   "outputs": [],
   "source": [
    "def sentence_similarity(sent1 , sent2 ,stopwords = None):\n",
    "    if stopwords is None:\n",
    "        stopwords = []\n",
    "    sent1 = [w.lower() for w in sent1]\n",
    "    sent2 = [w.lower() for w in sent2]\n",
    "    \n",
    "    all_words = list(set(sent1 + sent2))\n",
    "    \n",
    "    vector1 = [0] * len(all_words)\n",
    "    vector2 = [0] * len(all_words)\n",
    "    \n",
    "    # build the vector for the first sentence\n",
    "    for w in sent1:\n",
    "        if w not in stopwords:\n",
    "            vector1[all_words.index(w)] +=1\n",
    "    # build the vector for the secound sentence\n",
    "    \n",
    "    for w in sent2:\n",
    "        if w not in stopwords:\n",
    "            vector2[all_words.index(w)] +=1\n",
    "            \n",
    "    return 1 - cosine_distance(vector1 , vector2)\n",
    "        "
   ]
  },
  {
   "cell_type": "code",
   "execution_count": 6,
   "id": "13f3418e",
   "metadata": {},
   "outputs": [],
   "source": [
    "def build_similarity_matrix(sentences , stopwords):\n",
    "    # create an empty similarity matrix\n",
    "    similarity_matrix = np.zeros((len(sentences),len(sentences)))\n",
    "    for i in range(len(sentences)):\n",
    "        for j in range(len(sentences)):\n",
    "            if i == j:  # if the both are same > ignore\n",
    "                continue\n",
    "            similarity_matrix[i][j] = sentence_similarity(sentences[i] , sentences[j] ,stopwords)\n",
    "            \n",
    "    return similarity_matrix\n",
    "            \n",
    "    "
   ]
  },
  {
   "cell_type": "code",
   "execution_count": 7,
   "id": "72b6727a",
   "metadata": {},
   "outputs": [],
   "source": [
    "stop_words = stopwords.words('english')\n",
    "summarize_text = []\n",
    "\n",
    "# Step 1 - tokenize\n",
    "sentences =  tokenize(text)\n",
    "sentence_similarity_martix = build_similarity_matrix(sentences, stop_words)\n",
    "sentence_similarity_graph = nx.from_numpy_array(sentence_similarity_martix)\n",
    "scores = nx.pagerank(sentence_similarity_graph)\n",
    "ranked_sentence = sorted(((scores[i],s) for i,s in enumerate(sentences)), reverse=True)   \n"
   ]
  },
  {
   "cell_type": "code",
   "execution_count": 8,
   "id": "6d4b725b",
   "metadata": {},
   "outputs": [],
   "source": [
    "def generate_summary(text, top_n=5):\n",
    "    stop_words = stopwords.words('english')\n",
    "    summarize_text = []\n",
    "\n",
    "    # Step 1 - tokenize\n",
    "    sentences =  tokenize(text)\n",
    "\n",
    "    # Step 2 - Generate Similary Martix across sentences\n",
    "    sentence_similarity_martix = build_similarity_matrix(sentences, stop_words)\n",
    "\n",
    "    # Step 3 - Rank sentences in similarity martix\n",
    "    sentence_similarity_graph = nx.from_numpy_array(sentence_similarity_martix)\n",
    "    scores = nx.pagerank(sentence_similarity_graph)\n",
    "\n",
    "    # Step 4 - Sort the rank and pick top sentences\n",
    "    ranked_sentence = sorted(((scores[i],s) for i,s in enumerate(sentences)), reverse=True)    \n",
    "#     print(\"Indexes of top ranked_sentence order are \", ranked_sentence)    \n",
    "\n",
    "    for i in range(top_n):\n",
    "        summarize_text.append(\" \".join(ranked_sentence[i][1]))\n",
    "\n",
    "    # Step 5 - output the summarize texr\n",
    "    return \"\".join(summarize_text)\n"
   ]
  },
  {
   "cell_type": "code",
   "execution_count": 9,
   "id": "123722f2",
   "metadata": {
    "scrolled": false
   },
   "outputs": [
    {
     "name": "stdout",
     "output_type": "stream",
     "text": [
      "Summarize Text: \n",
      " Envisioned as a three-year collaborative program , Intelligent Cloud Hub will support around 100 institutions with AI infrastructure , course content and curriculum , developer support , development tools and give students access to cloud and AI services .This program also included developer-focused AI school that provided a bunch of assets to help build AI skills .Earlier in April this year , the company announced Microsoft Professional Program In AI as a learning track open to the public .As part of the program , the Redmond giant which wants to expand its reach and is planning to build a strong developer ecosystem in India with the program will set up the core AI infrastructure and IoT Hub for the selected campuses .The company will provide AI development tools and Azure AI services such as Microsoft Cognitive Services , Bot Services and Azure Machine Learning .\n"
     ]
    }
   ],
   "source": [
    "summarize_text = generate_summary(text)\n",
    "print(\"Summarize Text: \\n\",summarize_text)"
   ]
  },
  {
   "cell_type": "code",
   "execution_count": 10,
   "id": "7de073e4",
   "metadata": {},
   "outputs": [
    {
     "name": "stdout",
     "output_type": "stream",
     "text": [
      "length Before 2016 \n",
      "length After 877  \n"
     ]
    }
   ],
   "source": [
    "print(\"length Before {} \\nlength After {}  \".format(len(text) , len(summarize_text)))"
   ]
  },
  {
   "cell_type": "markdown",
   "id": "99641f00",
   "metadata": {},
   "source": [
    "# spacy ( Ranking )"
   ]
  },
  {
   "cell_type": "code",
   "execution_count": 11,
   "id": "f75ef825",
   "metadata": {},
   "outputs": [],
   "source": [
    "import spacy\n",
    "from spacy.lang.en.stop_words import STOP_WORDS\n",
    "from string import punctuation"
   ]
  },
  {
   "cell_type": "code",
   "execution_count": 12,
   "id": "d29c1dc6",
   "metadata": {},
   "outputs": [],
   "source": [
    "stopwords = list(STOP_WORDS)\n"
   ]
  },
  {
   "cell_type": "code",
   "execution_count": 13,
   "id": "d4d8ecd8",
   "metadata": {},
   "outputs": [],
   "source": [
    "nlp = spacy.load('en_core_web_sm')"
   ]
  },
  {
   "cell_type": "code",
   "execution_count": 14,
   "id": "ef552d7b",
   "metadata": {},
   "outputs": [],
   "source": [
    "doc = nlp(text)"
   ]
  },
  {
   "cell_type": "code",
   "execution_count": 15,
   "id": "8253e29c",
   "metadata": {},
   "outputs": [],
   "source": [
    "tokens = [token.text for token in doc]"
   ]
  },
  {
   "cell_type": "code",
   "execution_count": 16,
   "id": "08b8ba37",
   "metadata": {
    "scrolled": true
   },
   "outputs": [
    {
     "data": {
      "text/plain": [
       "'!\"#$%&\\'()*+,-./:;<=>?@[\\\\]^_`{|}~'"
      ]
     },
     "execution_count": 16,
     "metadata": {},
     "output_type": "execute_result"
    }
   ],
   "source": [
    "punctuation"
   ]
  },
  {
   "cell_type": "code",
   "execution_count": 17,
   "id": "40b15b2c",
   "metadata": {},
   "outputs": [],
   "source": [
    "# get the frequency for each word\n",
    "word_frequencies = {}\n",
    "for word in doc:\n",
    "    if word.text.lower() not in stopwords:\n",
    "        if word.text.lower() not in punctuation:\n",
    "            if word.text not in word_frequencies.keys():\n",
    "                word_frequencies[word.text] = 1\n",
    "            else:\n",
    "                word_frequencies[word.text] +=1"
   ]
  },
  {
   "cell_type": "code",
   "execution_count": 18,
   "id": "096af03f",
   "metadata": {},
   "outputs": [
    {
     "data": {
      "text/plain": [
       "14"
      ]
     },
     "execution_count": 18,
     "metadata": {},
     "output_type": "execute_result"
    }
   ],
   "source": [
    "max_freqyency = max(word_frequencies.values())\n",
    "max_freqyency"
   ]
  },
  {
   "cell_type": "code",
   "execution_count": 19,
   "id": "8da7d90f",
   "metadata": {},
   "outputs": [],
   "source": [
    "# normalize frequencies\n",
    "for word in word_frequencies.keys():\n",
    "    word_frequencies[word] = word_frequencies[word] / max_freqyency \n",
    "    "
   ]
  },
  {
   "cell_type": "code",
   "execution_count": 20,
   "id": "a6d52483",
   "metadata": {},
   "outputs": [],
   "source": [
    "sent_tokens = [sent for sent in doc.sents]\n"
   ]
  },
  {
   "cell_type": "code",
   "execution_count": 21,
   "id": "8a4299ff",
   "metadata": {},
   "outputs": [],
   "source": [
    "# get score for each sentence\n",
    "sentence_score = {}\n",
    "for sent in sent_tokens:\n",
    "    for word in sent:\n",
    "        if word.text.lower() in word_frequencies.keys():\n",
    "            if sent not in sentence_score.keys():\n",
    "                sentence_score[sent] = word_frequencies[word.text.lower()]\n",
    "            else:\n",
    "                sentence_score[sent] += word_frequencies[word.text.lower()] "
   ]
  },
  {
   "cell_type": "code",
   "execution_count": 22,
   "id": "d41a6035",
   "metadata": {},
   "outputs": [],
   "source": [
    "from heapq import nlargest"
   ]
  },
  {
   "cell_type": "code",
   "execution_count": 23,
   "id": "fff7878d",
   "metadata": {},
   "outputs": [
    {
     "data": {
      "text/plain": [
       "3"
      ]
     },
     "execution_count": 23,
     "metadata": {},
     "output_type": "execute_result"
    }
   ],
   "source": [
    "# select 30% sumarization\n",
    "select_length = int(len(sent_tokens)*0.3)\n",
    "select_length"
   ]
  },
  {
   "cell_type": "code",
   "execution_count": 24,
   "id": "893ea7cd",
   "metadata": {},
   "outputs": [
    {
     "data": {
      "text/plain": [
       "[Envisioned as a three-year collaborative program, Intelligent Cloud Hub will support around 100 institutions with AI infrastructure, course content and curriculum, developer support, development tools and give students access to cloud and AI services.,\n",
       " The program was developed to provide job ready skills to programmers who wanted to hone their skills in AI and data science with a series of online courses which featured hands-on labs and expert instructors as well.,\n",
       " As part of the program, the Redmond giant which wants to expand its reach and is planning to build a strong developer ecosystem in India with the program will set up the core AI infrastructure and IoT Hub for the selected campuses.]"
      ]
     },
     "execution_count": 24,
     "metadata": {},
     "output_type": "execute_result"
    }
   ],
   "source": [
    "summary = nlargest(select_length , sentence_score, key =sentence_score.get)\n",
    "summary"
   ]
  },
  {
   "cell_type": "code",
   "execution_count": 25,
   "id": "c41a3bd4",
   "metadata": {},
   "outputs": [],
   "source": [
    "final = [word.text for word in summary]\n",
    "summary = ' '.join(final)"
   ]
  },
  {
   "cell_type": "markdown",
   "id": "bb9bb93e",
   "metadata": {},
   "source": [
    "### review results"
   ]
  },
  {
   "cell_type": "code",
   "execution_count": 26,
   "id": "937f5c3f",
   "metadata": {
    "scrolled": true
   },
   "outputs": [
    {
     "name": "stdout",
     "output_type": "stream",
     "text": [
      "Envisioned as a three-year collaborative program, Intelligent Cloud Hub will support around 100 institutions with AI infrastructure, course content and curriculum, developer support, development tools and give students access to cloud and AI services. The program was developed to provide job ready skills to programmers who wanted to hone their skills in AI and data science with a series of online courses which featured hands-on labs and expert instructors as well. As part of the program, the Redmond giant which wants to expand its reach and is planning to build a strong developer ecosystem in India with the program will set up the core AI infrastructure and IoT Hub for the selected campuses.\n",
      "--------------------------------------------------\n",
      "length Before 2016 \n",
      "length After 700  \n"
     ]
    }
   ],
   "source": [
    "print(summary)\n",
    "print('-'*50)\n",
    "print(\"length Before {} \\nlength After {}  \".format(len(text) , len(summary)))"
   ]
  },
  {
   "cell_type": "markdown",
   "id": "3b340502",
   "metadata": {},
   "source": [
    "# gensim (built-in Function )"
   ]
  },
  {
   "cell_type": "code",
   "execution_count": 27,
   "id": "2969dcc7",
   "metadata": {},
   "outputs": [],
   "source": [
    "from gensim.summarization.summarizer import summarize"
   ]
  },
  {
   "cell_type": "code",
   "execution_count": 28,
   "id": "b030777f",
   "metadata": {},
   "outputs": [
    {
     "name": "stdout",
     "output_type": "stream",
     "text": [
      "In an attempt to build an AI-ready workforce, Microsoft announced Intelligent Cloud Hub which has been launched to empower the next generation of students with AI-ready skills.\n",
      "Envisioned as a three-year collaborative program, Intelligent Cloud Hub will support around 100 institutions with AI infrastructure, course content and curriculum, developer support, development tools and give students access to cloud and AI services.\n",
      "--------------------------------------------------\n",
      "length Before 2016 \n",
      "length After 428  \n"
     ]
    }
   ],
   "source": [
    "summary = summarize(text) # defult  ratio=0.2\n",
    "print(summary)\n",
    "print('-'*50)\n",
    "print(\"length Before {} \\nlength After {}  \".format(len(text) , len(summary)))"
   ]
  },
  {
   "cell_type": "markdown",
   "id": "321485e2",
   "metadata": {},
   "source": [
    "### gensim ratio 40%"
   ]
  },
  {
   "cell_type": "code",
   "execution_count": 29,
   "id": "a3927ac5",
   "metadata": {},
   "outputs": [
    {
     "name": "stdout",
     "output_type": "stream",
     "text": [
      "In an attempt to build an AI-ready workforce, Microsoft announced Intelligent Cloud Hub which has been launched to empower the next generation of students with AI-ready skills.\n",
      "Envisioned as a three-year collaborative program, Intelligent Cloud Hub will support around 100 institutions with AI infrastructure, course content and curriculum, developer support, development tools and give students access to cloud and AI services.\n",
      "According to Manish Prakash, Country General Manager-PS, Health and Education, Microsoft India, said, \"With AI being the defining technology of our time, it is transforming lives and industry and the jobs of tomorrow will require a different skillset.\n",
      "The program is an attempt to ramp up the institutional set-up and build capabilities among the educators to educate the workforce of tomorrow.\" The program aims to build up the cognitive skills and in-depth understanding of developing intelligent cloud connected solutions for applications across industry.\n",
      "--------------------------------------------------\n",
      "length Before 2016 \n",
      "length After 987  \n"
     ]
    }
   ],
   "source": [
    "summary = summarize(text , ratio=0.4)\n",
    "print(summary)\n",
    "print('-'*50)\n",
    "print(\"length Before {} \\nlength After {}  \".format(len(text) , len(summary)))"
   ]
  },
  {
   "cell_type": "markdown",
   "id": "0e9155be",
   "metadata": {},
   "source": [
    "### gensim  ratio 35%"
   ]
  },
  {
   "cell_type": "code",
   "execution_count": 30,
   "id": "00ef94c4",
   "metadata": {},
   "outputs": [
    {
     "name": "stdout",
     "output_type": "stream",
     "text": [
      "In an attempt to build an AI-ready workforce, Microsoft announced Intelligent Cloud Hub which has been launched to empower the next generation of students with AI-ready skills.\n",
      "Envisioned as a three-year collaborative program, Intelligent Cloud Hub will support around 100 institutions with AI infrastructure, course content and curriculum, developer support, development tools and give students access to cloud and AI services.\n",
      "The program is an attempt to ramp up the institutional set-up and build capabilities among the educators to educate the workforce of tomorrow.\" The program aims to build up the cognitive skills and in-depth understanding of developing intelligent cloud connected solutions for applications across industry.\n",
      "--------------------------------------------------\n",
      "length Before 2016 \n",
      "length After 735  \n"
     ]
    }
   ],
   "source": [
    "summary = summarize(text ,ratio=0.35)\n",
    "print(summary)\n",
    "print('-'*50)\n",
    "print(\"length Before {} \\nlength After {}  \".format(len(text) , len(summary)))"
   ]
  },
  {
   "cell_type": "code",
   "execution_count": null,
   "id": "6546d3ff",
   "metadata": {},
   "outputs": [],
   "source": []
  }
 ],
 "metadata": {
  "kernelspec": {
   "display_name": "Python 3 (ipykernel)",
   "language": "python",
   "name": "python3"
  },
  "language_info": {
   "codemirror_mode": {
    "name": "ipython",
    "version": 3
   },
   "file_extension": ".py",
   "mimetype": "text/x-python",
   "name": "python",
   "nbconvert_exporter": "python",
   "pygments_lexer": "ipython3",
   "version": "3.8.5"
  }
 },
 "nbformat": 4,
 "nbformat_minor": 5
}
