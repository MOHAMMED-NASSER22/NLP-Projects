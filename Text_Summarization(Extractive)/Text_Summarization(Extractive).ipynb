{
 "cells": [
  {
   "cell_type": "markdown",
   "id": "51370a79",
   "metadata": {},
   "source": [
    "# spacy"
   ]
  },
  {
   "cell_type": "code",
   "execution_count": 25,
   "id": "db94a703",
   "metadata": {},
   "outputs": [],
   "source": [
    "import spacy\n",
    "from spacy.lang.en.stop_words import STOP_WORDS\n",
    "from string import punctuation"
   ]
  },
  {
   "cell_type": "code",
   "execution_count": 26,
   "id": "ea8f402e",
   "metadata": {},
   "outputs": [],
   "source": [
    "# definition from wiki \n",
    "text = \"\"\"In an attempt to build an AI-ready workforce, Microsoft announced Intelligent Cloud Hub\n",
    "          which has been launched to empower the next generation of students with AI-ready skills.\n",
    "         Envisioned as a three-year collaborative program, Intelligent Cloud Hub will support around 100\n",
    "          institutions with AI infrastructure, course content and curriculum, developer support,\n",
    "          development tools and give students access to cloud and AI services.\n",
    "          As part of the program, the Redmond giant which wants to expand its reach and is\n",
    "          planning to build a strong developer ecosystem in India with the program will set up the\n",
    "          core AI infrastructure and IoT Hub for the selected campuses.\n",
    "          The company will provide AI development tools and Azure AI services such as\n",
    "          Microsoft Cognitive Services, Bot Services and Azure Machine Learning.\n",
    "          According to Manish Prakash, Country General Manager-PS, Health and Education,\n",
    "          Microsoft India, said, \"With AI being the defining technology of our time,\n",
    "          it is transforming lives and industry and the jobs of tomorrow will\n",
    "          require a different skillset. This will require more collaborations and\n",
    "          training and working with AI. That’s why it has become more critical than ever for\n",
    "          educational institutions to integrate new cloud and AI technologies.\n",
    "          The program is an attempt to ramp up the institutional set-up and build\n",
    "          capabilities among the educators to educate the workforce of tomorrow.\"\n",
    "          The program aims to build up the cognitive skills and in-depth understanding of\n",
    "          developing intelligent cloud connected solutions for applications across industry.\n",
    "          Earlier in April this year, the company announced Microsoft Professional\n",
    "          Program In AI as a learning track open to the public.\n",
    "          The program was developed to provide job ready skills to programmers who wanted to hone their\n",
    "          skills in AI and data science with a series of online courses which featured hands-on labs and expert instructors as well.\n",
    "          This program also included developer-focused AI school that provided a bunch of assets to help build AI skills.\"\"\"\n"
   ]
  },
  {
   "cell_type": "code",
   "execution_count": 27,
   "id": "d29c1dc6",
   "metadata": {},
   "outputs": [],
   "source": [
    "stopwords = list(STOP_WORDS)\n"
   ]
  },
  {
   "cell_type": "code",
   "execution_count": 28,
   "id": "d4d8ecd8",
   "metadata": {},
   "outputs": [],
   "source": [
    "nlp = spacy.load('en_core_web_sm')"
   ]
  },
  {
   "cell_type": "code",
   "execution_count": 29,
   "id": "ef552d7b",
   "metadata": {},
   "outputs": [],
   "source": [
    "doc = nlp(text)"
   ]
  },
  {
   "cell_type": "code",
   "execution_count": 30,
   "id": "8253e29c",
   "metadata": {},
   "outputs": [
    {
     "name": "stdout",
     "output_type": "stream",
     "text": [
      "['In', 'an', 'attempt', 'to', 'build', 'an', 'AI', '-', 'ready', 'workforce', ',', 'Microsoft', 'announced', 'Intelligent', 'Cloud', 'Hub', '\\n          ', 'which', 'has', 'been', 'launched', 'to', 'empower', 'the', 'next', 'generation', 'of', 'students', 'with', 'AI', '-', 'ready', 'skills', '.', '\\n         ', 'Envisioned', 'as', 'a', 'three', '-', 'year', 'collaborative', 'program', ',', 'Intelligent', 'Cloud', 'Hub', 'will', 'support', 'around', '100', '\\n          ', 'institutions', 'with', 'AI', 'infrastructure', ',', 'course', 'content', 'and', 'curriculum', ',', 'developer', 'support', ',', '\\n          ', 'development', 'tools', 'and', 'give', 'students', 'access', 'to', 'cloud', 'and', 'AI', 'services', '.', '\\n          ', 'As', 'part', 'of', 'the', 'program', ',', 'the', 'Redmond', 'giant', 'which', 'wants', 'to', 'expand', 'its', 'reach', 'and', 'is', '\\n          ', 'planning', 'to', 'build', 'a', 'strong', 'developer', 'ecosystem', 'in', 'India', 'with', 'the', 'program', 'will', 'set', 'up', 'the', '\\n          ', 'core', 'AI', 'infrastructure', 'and', 'IoT', 'Hub', 'for', 'the', 'selected', 'campuses', '.', '\\n          ', 'The', 'company', 'will', 'provide', 'AI', 'development', 'tools', 'and', 'Azure', 'AI', 'services', 'such', 'as', '\\n          ', 'Microsoft', 'Cognitive', 'Services', ',', 'Bot', 'Services', 'and', 'Azure', 'Machine', 'Learning', '.', '\\n          ', 'According', 'to', 'Manish', 'Prakash', ',', 'Country', 'General', 'Manager', '-', 'PS', ',', 'Health', 'and', 'Education', ',', '\\n          ', 'Microsoft', 'India', ',', 'said', ',', '\"', 'With', 'AI', 'being', 'the', 'defining', 'technology', 'of', 'our', 'time', ',', '\\n          ', 'it', 'is', 'transforming', 'lives', 'and', 'industry', 'and', 'the', 'jobs', 'of', 'tomorrow', 'will', '\\n          ', 'require', 'a', 'different', 'skillset', '.', 'This', 'will', 'require', 'more', 'collaborations', 'and', '\\n          ', 'training', 'and', 'working', 'with', 'AI', '.', 'That', '’s', 'why', 'it', 'has', 'become', 'more', 'critical', 'than', 'ever', 'for', '\\n          ', 'educational', 'institutions', 'to', 'integrate', 'new', 'cloud', 'and', 'AI', 'technologies', '.', '\\n          ', 'The', 'program', 'is', 'an', 'attempt', 'to', 'ramp', 'up', 'the', 'institutional', 'set', '-', 'up', 'and', 'build', '\\n          ', 'capabilities', 'among', 'the', 'educators', 'to', 'educate', 'the', 'workforce', 'of', 'tomorrow', '.', '\"', '\\n          ', 'The', 'program', 'aims', 'to', 'build', 'up', 'the', 'cognitive', 'skills', 'and', 'in', '-', 'depth', 'understanding', 'of', '\\n          ', 'developing', 'intelligent', 'cloud', 'connected', 'solutions', 'for', 'applications', 'across', 'industry', '.', '\\n          ', 'Earlier', 'in', 'April', 'this', 'year', ',', 'the', 'company', 'announced', 'Microsoft', 'Professional', '\\n          ', 'Program', 'In', 'AI', 'as', 'a', 'learning', 'track', 'open', 'to', 'the', 'public', '.', '\\n          ', 'The', 'program', 'was', 'developed', 'to', 'provide', 'job', 'ready', 'skills', 'to', 'programmers', 'who', 'wanted', 'to', 'hone', 'their', '\\n          ', 'skills', 'in', 'AI', 'and', 'data', 'science', 'with', 'a', 'series', 'of', 'online', 'courses', 'which', 'featured', 'hands', '-', 'on', 'labs', 'and', 'expert', 'instructors', 'as', 'well', '.', '\\n          ', 'This', 'program', 'also', 'included', 'developer', '-', 'focused', 'AI', 'school', 'that', 'provided', 'a', 'bunch', 'of', 'assets', 'to', 'help', 'build', 'AI', 'skills', '.']\n"
     ]
    }
   ],
   "source": [
    "tokens = [token.text for token in doc]\n",
    "print(tokens)"
   ]
  },
  {
   "cell_type": "code",
   "execution_count": 31,
   "id": "08b8ba37",
   "metadata": {
    "scrolled": true
   },
   "outputs": [
    {
     "data": {
      "text/plain": [
       "'!\"#$%&\\'()*+,-./:;<=>?@[\\\\]^_`{|}~'"
      ]
     },
     "execution_count": 31,
     "metadata": {},
     "output_type": "execute_result"
    }
   ],
   "source": [
    "punctuation"
   ]
  },
  {
   "cell_type": "code",
   "execution_count": 32,
   "id": "40b15b2c",
   "metadata": {},
   "outputs": [],
   "source": [
    "# get the frequency for each word\n",
    "word_frequencies = {}\n",
    "for word in doc:\n",
    "    if word.text.lower() not in stopwords:\n",
    "        if word.text.lower() not in punctuation:\n",
    "            if word.text not in word_frequencies.keys():\n",
    "                word_frequencies[word.text] = 1\n",
    "            else:\n",
    "                word_frequencies[word.text] +=1"
   ]
  },
  {
   "cell_type": "code",
   "execution_count": 33,
   "id": "a2418db1",
   "metadata": {},
   "outputs": [
    {
     "name": "stdout",
     "output_type": "stream",
     "text": [
      "{'attempt': 2, 'build': 5, 'AI': 14, 'ready': 3, 'workforce': 2, 'Microsoft': 4, 'announced': 2, 'Intelligent': 2, 'Cloud': 2, 'Hub': 3, '\\n          ': 23, 'launched': 1, 'empower': 1, 'generation': 1, 'students': 2, 'skills': 5, '\\n         ': 1, 'Envisioned': 1, 'year': 2, 'collaborative': 1, 'program': 7, 'support': 2, '100': 1, 'institutions': 2, 'infrastructure': 2, 'course': 1, 'content': 1, 'curriculum': 1, 'developer': 3, 'development': 2, 'tools': 2, 'access': 1, 'cloud': 3, 'services': 2, 'Redmond': 1, 'giant': 1, 'wants': 1, 'expand': 1, 'reach': 1, 'planning': 1, 'strong': 1, 'ecosystem': 1, 'India': 2, 'set': 2, 'core': 1, 'IoT': 1, 'selected': 1, 'campuses': 1, 'company': 2, 'provide': 2, 'Azure': 2, 'Cognitive': 1, 'Services': 2, 'Bot': 1, 'Machine': 1, 'Learning': 1, 'According': 1, 'Manish': 1, 'Prakash': 1, 'Country': 1, 'General': 1, 'Manager': 1, 'PS': 1, 'Health': 1, 'Education': 1, 'said': 1, 'defining': 1, 'technology': 1, 'time': 1, 'transforming': 1, 'lives': 1, 'industry': 2, 'jobs': 1, 'tomorrow': 2, 'require': 2, 'different': 1, 'skillset': 1, 'collaborations': 1, 'training': 1, 'working': 1, 'critical': 1, 'educational': 1, 'integrate': 1, 'new': 1, 'technologies': 1, 'ramp': 1, 'institutional': 1, 'capabilities': 1, 'educators': 1, 'educate': 1, 'aims': 1, 'cognitive': 1, 'depth': 1, 'understanding': 1, 'developing': 1, 'intelligent': 1, 'connected': 1, 'solutions': 1, 'applications': 1, 'Earlier': 1, 'April': 1, 'Professional': 1, 'Program': 1, 'learning': 1, 'track': 1, 'open': 1, 'public': 1, 'developed': 1, 'job': 1, 'programmers': 1, 'wanted': 1, 'hone': 1, 'data': 1, 'science': 1, 'series': 1, 'online': 1, 'courses': 1, 'featured': 1, 'hands': 1, 'labs': 1, 'expert': 1, 'instructors': 1, 'included': 1, 'focused': 1, 'school': 1, 'provided': 1, 'bunch': 1, 'assets': 1, 'help': 1}\n"
     ]
    }
   ],
   "source": [
    "print(word_frequencies)"
   ]
  },
  {
   "cell_type": "code",
   "execution_count": 34,
   "id": "096af03f",
   "metadata": {},
   "outputs": [
    {
     "data": {
      "text/plain": [
       "23"
      ]
     },
     "execution_count": 34,
     "metadata": {},
     "output_type": "execute_result"
    }
   ],
   "source": [
    "max_freqyency = max(word_frequencies.values())\n",
    "max_freqyency"
   ]
  },
  {
   "cell_type": "code",
   "execution_count": 35,
   "id": "8da7d90f",
   "metadata": {},
   "outputs": [
    {
     "name": "stdout",
     "output_type": "stream",
     "text": [
      "{'attempt': 0.08695652173913043, 'build': 0.21739130434782608, 'AI': 0.6086956521739131, 'ready': 0.13043478260869565, 'workforce': 0.08695652173913043, 'Microsoft': 0.17391304347826086, 'announced': 0.08695652173913043, 'Intelligent': 0.08695652173913043, 'Cloud': 0.08695652173913043, 'Hub': 0.13043478260869565, '\\n          ': 1.0, 'launched': 0.043478260869565216, 'empower': 0.043478260869565216, 'generation': 0.043478260869565216, 'students': 0.08695652173913043, 'skills': 0.21739130434782608, '\\n         ': 0.043478260869565216, 'Envisioned': 0.043478260869565216, 'year': 0.08695652173913043, 'collaborative': 0.043478260869565216, 'program': 0.30434782608695654, 'support': 0.08695652173913043, '100': 0.043478260869565216, 'institutions': 0.08695652173913043, 'infrastructure': 0.08695652173913043, 'course': 0.043478260869565216, 'content': 0.043478260869565216, 'curriculum': 0.043478260869565216, 'developer': 0.13043478260869565, 'development': 0.08695652173913043, 'tools': 0.08695652173913043, 'access': 0.043478260869565216, 'cloud': 0.13043478260869565, 'services': 0.08695652173913043, 'Redmond': 0.043478260869565216, 'giant': 0.043478260869565216, 'wants': 0.043478260869565216, 'expand': 0.043478260869565216, 'reach': 0.043478260869565216, 'planning': 0.043478260869565216, 'strong': 0.043478260869565216, 'ecosystem': 0.043478260869565216, 'India': 0.08695652173913043, 'set': 0.08695652173913043, 'core': 0.043478260869565216, 'IoT': 0.043478260869565216, 'selected': 0.043478260869565216, 'campuses': 0.043478260869565216, 'company': 0.08695652173913043, 'provide': 0.08695652173913043, 'Azure': 0.08695652173913043, 'Cognitive': 0.043478260869565216, 'Services': 0.08695652173913043, 'Bot': 0.043478260869565216, 'Machine': 0.043478260869565216, 'Learning': 0.043478260869565216, 'According': 0.043478260869565216, 'Manish': 0.043478260869565216, 'Prakash': 0.043478260869565216, 'Country': 0.043478260869565216, 'General': 0.043478260869565216, 'Manager': 0.043478260869565216, 'PS': 0.043478260869565216, 'Health': 0.043478260869565216, 'Education': 0.043478260869565216, 'said': 0.043478260869565216, 'defining': 0.043478260869565216, 'technology': 0.043478260869565216, 'time': 0.043478260869565216, 'transforming': 0.043478260869565216, 'lives': 0.043478260869565216, 'industry': 0.08695652173913043, 'jobs': 0.043478260869565216, 'tomorrow': 0.08695652173913043, 'require': 0.08695652173913043, 'different': 0.043478260869565216, 'skillset': 0.043478260869565216, 'collaborations': 0.043478260869565216, 'training': 0.043478260869565216, 'working': 0.043478260869565216, 'critical': 0.043478260869565216, 'educational': 0.043478260869565216, 'integrate': 0.043478260869565216, 'new': 0.043478260869565216, 'technologies': 0.043478260869565216, 'ramp': 0.043478260869565216, 'institutional': 0.043478260869565216, 'capabilities': 0.043478260869565216, 'educators': 0.043478260869565216, 'educate': 0.043478260869565216, 'aims': 0.043478260869565216, 'cognitive': 0.043478260869565216, 'depth': 0.043478260869565216, 'understanding': 0.043478260869565216, 'developing': 0.043478260869565216, 'intelligent': 0.043478260869565216, 'connected': 0.043478260869565216, 'solutions': 0.043478260869565216, 'applications': 0.043478260869565216, 'Earlier': 0.043478260869565216, 'April': 0.043478260869565216, 'Professional': 0.043478260869565216, 'Program': 0.043478260869565216, 'learning': 0.043478260869565216, 'track': 0.043478260869565216, 'open': 0.043478260869565216, 'public': 0.043478260869565216, 'developed': 0.043478260869565216, 'job': 0.043478260869565216, 'programmers': 0.043478260869565216, 'wanted': 0.043478260869565216, 'hone': 0.043478260869565216, 'data': 0.043478260869565216, 'science': 0.043478260869565216, 'series': 0.043478260869565216, 'online': 0.043478260869565216, 'courses': 0.043478260869565216, 'featured': 0.043478260869565216, 'hands': 0.043478260869565216, 'labs': 0.043478260869565216, 'expert': 0.043478260869565216, 'instructors': 0.043478260869565216, 'included': 0.043478260869565216, 'focused': 0.043478260869565216, 'school': 0.043478260869565216, 'provided': 0.043478260869565216, 'bunch': 0.043478260869565216, 'assets': 0.043478260869565216, 'help': 0.043478260869565216}\n"
     ]
    }
   ],
   "source": [
    "# normalize frequencies\n",
    "for word in word_frequencies.keys():\n",
    "    word_frequencies[word] = word_frequencies[word] / max_freqyency \n",
    "    \n",
    "print(word_frequencies)"
   ]
  },
  {
   "cell_type": "code",
   "execution_count": 36,
   "id": "a6d52483",
   "metadata": {},
   "outputs": [
    {
     "name": "stdout",
     "output_type": "stream",
     "text": [
      "[In an attempt to build an AI-ready workforce, Microsoft announced Intelligent Cloud Hub\n",
      "          which has been launched to empower the next generation of students with AI-ready skills., \n",
      "         Envisioned as a three-year collaborative program, Intelligent Cloud Hub will support around 100\n",
      "          institutions with AI infrastructure, course content and curriculum, developer support,\n",
      "          development tools and give students access to cloud and AI services., \n",
      "          As part of the program, the Redmond giant which wants to expand its reach and is\n",
      "          planning to build a strong developer ecosystem in India with the program will set up the\n",
      "          core AI infrastructure and IoT Hub for the selected campuses., \n",
      "          The company will provide AI development tools and Azure AI services such as\n",
      "          Microsoft Cognitive Services, Bot Services and Azure Machine Learning., \n",
      "          , According to Manish Prakash, Country General Manager-PS, Health and Education,\n",
      "          Microsoft India, said, \"With AI being the defining technology of our time,\n",
      "          it is transforming lives and industry and the jobs of tomorrow will\n",
      "          require a different skillset., This will require more collaborations and\n",
      "          training and working with AI., That’s why it has become more critical than ever for\n",
      "          educational institutions to integrate new cloud and AI technologies., \n",
      "          The program is an attempt to ramp up the institutional set-up and build\n",
      "          capabilities among the educators to educate the workforce of tomorrow., \"\n",
      "          The program aims to build up the cognitive skills and in-depth understanding of\n",
      "          developing intelligent cloud connected solutions for applications across industry., \n",
      "          Earlier in April this year, the company announced Microsoft Professional\n",
      "          Program In AI as a learning track open to the public., \n",
      "          The program was developed to provide job ready skills to programmers who wanted to hone their\n",
      "          skills in AI and data science with a series of online courses which featured hands-on labs and expert instructors as well., \n",
      "          This program also included developer-focused AI school that provided a bunch of assets to help build AI skills.]\n"
     ]
    }
   ],
   "source": [
    "sent_tokens = [sent for sent in doc.sents]\n",
    "print(sent_tokens)"
   ]
  },
  {
   "cell_type": "code",
   "execution_count": 37,
   "id": "8a4299ff",
   "metadata": {},
   "outputs": [],
   "source": [
    "# get score for each sentence\n",
    "sentence_score = {}\n",
    "for sent in sent_tokens:\n",
    "    for word in sent:\n",
    "        if word.text.lower() in word_frequencies.keys():\n",
    "            if sent not in sentence_score.keys():\n",
    "                sentence_score[sent] = word_frequencies[word.text.lower()]\n",
    "            else:\n",
    "                sentence_score[sent] += word_frequencies[word.text.lower()] "
   ]
  },
  {
   "cell_type": "code",
   "execution_count": 38,
   "id": "d41a6035",
   "metadata": {},
   "outputs": [],
   "source": [
    "from heapq import nlargest"
   ]
  },
  {
   "cell_type": "code",
   "execution_count": 39,
   "id": "fff7878d",
   "metadata": {},
   "outputs": [
    {
     "data": {
      "text/plain": [
       "3"
      ]
     },
     "execution_count": 39,
     "metadata": {},
     "output_type": "execute_result"
    }
   ],
   "source": [
    "# select 30% sumarization\n",
    "select_length = int(len(sent_tokens)*0.3)\n",
    "select_length"
   ]
  },
  {
   "cell_type": "code",
   "execution_count": 40,
   "id": "893ea7cd",
   "metadata": {},
   "outputs": [
    {
     "data": {
      "text/plain": [
       "[\n",
       "           As part of the program, the Redmond giant which wants to expand its reach and is\n",
       "           planning to build a strong developer ecosystem in India with the program will set up the\n",
       "           core AI infrastructure and IoT Hub for the selected campuses.,\n",
       " \n",
       "          Envisioned as a three-year collaborative program, Intelligent Cloud Hub will support around 100\n",
       "           institutions with AI infrastructure, course content and curriculum, developer support,\n",
       "           development tools and give students access to cloud and AI services.,\n",
       " According to Manish Prakash, Country General Manager-PS, Health and Education,\n",
       "           Microsoft India, said, \"With AI being the defining technology of our time,\n",
       "           it is transforming lives and industry and the jobs of tomorrow will\n",
       "           require a different skillset.]"
      ]
     },
     "execution_count": 40,
     "metadata": {},
     "output_type": "execute_result"
    }
   ],
   "source": [
    "summary = nlargest(select_length , sentence_score, key =sentence_score.get)\n",
    "summary"
   ]
  },
  {
   "cell_type": "code",
   "execution_count": 41,
   "id": "c41a3bd4",
   "metadata": {},
   "outputs": [],
   "source": [
    "final = [word.text for word in summary]\n",
    "summary = ' '.join(final)"
   ]
  },
  {
   "cell_type": "markdown",
   "id": "bb9bb93e",
   "metadata": {},
   "source": [
    "### review results"
   ]
  },
  {
   "cell_type": "code",
   "execution_count": 42,
   "id": "ed29124c",
   "metadata": {},
   "outputs": [
    {
     "name": "stdout",
     "output_type": "stream",
     "text": [
      "In an attempt to build an AI-ready workforce, Microsoft announced Intelligent Cloud Hub\n",
      "          which has been launched to empower the next generation of students with AI-ready skills.\n",
      "         Envisioned as a three-year collaborative program, Intelligent Cloud Hub will support around 100\n",
      "          institutions with AI infrastructure, course content and curriculum, developer support,\n",
      "          development tools and give students access to cloud and AI services.\n",
      "          As part of the program, the Redmond giant which wants to expand its reach and is\n",
      "          planning to build a strong developer ecosystem in India with the program will set up the\n",
      "          core AI infrastructure and IoT Hub for the selected campuses.\n",
      "          The company will provide AI development tools and Azure AI services such as\n",
      "          Microsoft Cognitive Services, Bot Services and Azure Machine Learning.\n",
      "          According to Manish Prakash, Country General Manager-PS, Health and Education,\n",
      "          Microsoft India, said, \"With AI being the defining technology of our time,\n",
      "          it is transforming lives and industry and the jobs of tomorrow will\n",
      "          require a different skillset. This will require more collaborations and\n",
      "          training and working with AI. That’s why it has become more critical than ever for\n",
      "          educational institutions to integrate new cloud and AI technologies.\n",
      "          The program is an attempt to ramp up the institutional set-up and build\n",
      "          capabilities among the educators to educate the workforce of tomorrow.\"\n",
      "          The program aims to build up the cognitive skills and in-depth understanding of\n",
      "          developing intelligent cloud connected solutions for applications across industry.\n",
      "          Earlier in April this year, the company announced Microsoft Professional\n",
      "          Program In AI as a learning track open to the public.\n",
      "          The program was developed to provide job ready skills to programmers who wanted to hone their\n",
      "          skills in AI and data science with a series of online courses which featured hands-on labs and expert instructors as well.\n",
      "          This program also included developer-focused AI school that provided a bunch of assets to help build AI skills.\n"
     ]
    }
   ],
   "source": [
    "print(text)"
   ]
  },
  {
   "cell_type": "code",
   "execution_count": 43,
   "id": "937f5c3f",
   "metadata": {},
   "outputs": [
    {
     "name": "stdout",
     "output_type": "stream",
     "text": [
      "\n",
      "          As part of the program, the Redmond giant which wants to expand its reach and is\n",
      "          planning to build a strong developer ecosystem in India with the program will set up the\n",
      "          core AI infrastructure and IoT Hub for the selected campuses. \n",
      "         Envisioned as a three-year collaborative program, Intelligent Cloud Hub will support around 100\n",
      "          institutions with AI infrastructure, course content and curriculum, developer support,\n",
      "          development tools and give students access to cloud and AI services. According to Manish Prakash, Country General Manager-PS, Health and Education,\n",
      "          Microsoft India, said, \"With AI being the defining technology of our time,\n",
      "          it is transforming lives and industry and the jobs of tomorrow will\n",
      "          require a different skillset.\n"
     ]
    }
   ],
   "source": [
    "print(summary)"
   ]
  },
  {
   "cell_type": "code",
   "execution_count": 44,
   "id": "921ac328",
   "metadata": {},
   "outputs": [
    {
     "name": "stdout",
     "output_type": "stream",
     "text": [
      "length Before 2255 \n",
      "length After 826  \n"
     ]
    }
   ],
   "source": [
    "print(\"length Before {} \\nlength After {}  \".format(len(text) , len(summary)))"
   ]
  },
  {
   "cell_type": "markdown",
   "id": "bc2e5bc1",
   "metadata": {},
   "source": [
    "# nltk"
   ]
  },
  {
   "cell_type": "code",
   "execution_count": null,
   "id": "5af22880",
   "metadata": {},
   "outputs": [],
   "source": []
  }
 ],
 "metadata": {
  "kernelspec": {
   "display_name": "Python 3 (ipykernel)",
   "language": "python",
   "name": "python3"
  },
  "language_info": {
   "codemirror_mode": {
    "name": "ipython",
    "version": 3
   },
   "file_extension": ".py",
   "mimetype": "text/x-python",
   "name": "python",
   "nbconvert_exporter": "python",
   "pygments_lexer": "ipython3",
   "version": "3.8.5"
  }
 },
 "nbformat": 4,
 "nbformat_minor": 5
}
