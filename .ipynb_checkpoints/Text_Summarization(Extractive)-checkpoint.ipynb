{
 "cells": [
  {
   "cell_type": "code",
   "execution_count": 2,
   "id": "a905c337",
   "metadata": {},
   "outputs": [],
   "source": [
    "import spacy\n",
    "from spacy.lang.en.stop_words import STOP_WORDS\n",
    "from string import punctuation"
   ]
  },
  {
   "cell_type": "code",
   "execution_count": 3,
   "id": "ea8f402e",
   "metadata": {},
   "outputs": [],
   "source": [
    "# definition from wiki \n",
    "text = \"Text summarization methods can be grouped into two main categories: Extractive and Abstractive methods , Extractive Text Summarization It is the traditional method developed first. The main objective is to identify the significant sentences of the text and add them to the summary. You need to note that the summary obtained contains exact sentences from the original text. * Abstractive Text Summarization It is a more advanced method, many advancements keep coming out frequently(I will cover some of the best here). The approach is to identify the important sections, interpret the context and reproduce in a new way. This ensures that the core information is conveyed through shortest text possible. Note that here, the sentences in summary are generated, not just extracted from original text. In the next sections, I will discuss different extractive and abstractive methods. At the end, you can compare the results and know for yourself the advantages and limitations of each method\""
   ]
  },
  {
   "cell_type": "code",
   "execution_count": 4,
   "id": "d29c1dc6",
   "metadata": {},
   "outputs": [],
   "source": [
    "stopwords = list(STOP_WORDS)"
   ]
  },
  {
   "cell_type": "code",
   "execution_count": 5,
   "id": "d4d8ecd8",
   "metadata": {},
   "outputs": [],
   "source": [
    "nlp = spacy.load('en_core_web_sm')"
   ]
  },
  {
   "cell_type": "code",
   "execution_count": 6,
   "id": "ef552d7b",
   "metadata": {},
   "outputs": [],
   "source": [
    "doc = nlp(text)"
   ]
  },
  {
   "cell_type": "code",
   "execution_count": 51,
   "id": "8253e29c",
   "metadata": {},
   "outputs": [
    {
     "name": "stdout",
     "output_type": "stream",
     "text": [
      "['Text', 'summarization', 'methods', 'can', 'be', 'grouped', 'into', 'two', 'main', 'categories', ':', 'Extractive', 'and', 'Abstractive', 'methods', ',', 'Extractive', 'Text', 'Summarization', 'It', 'is', 'the', 'traditional', 'method', 'developed', 'first', '.', 'The', 'main', 'objective', 'is', 'to', 'identify', 'the', 'significant', 'sentences', 'of', 'the', 'text', 'and', 'add', 'them', 'to', 'the', 'summary', '.', 'You', 'need', 'to', 'note', 'that', 'the', 'summary', 'obtained', 'contains', 'exact', 'sentences', 'from', 'the', 'original', 'text', '.', '*', 'Abstractive', 'Text', 'Summarization', 'It', 'is', 'a', 'more', 'advanced', 'method', ',', 'many', 'advancements', 'keep', 'coming', 'out', 'frequently(I', 'will', 'cover', 'some', 'of', 'the', 'best', 'here', ')', '.', 'The', 'approach', 'is', 'to', 'identify', 'the', 'important', 'sections', ',', 'interpret', 'the', 'context', 'and', 'reproduce', 'in', 'a', 'new', 'way', '.', 'This', 'ensures', 'that', 'the', 'core', 'information', 'is', 'conveyed', 'through', 'shortest', 'text', 'possible', '.', 'Note', 'that', 'here', ',', 'the', 'sentences', 'in', 'summary', 'are', 'generated', ',', 'not', 'just', 'extracted', 'from', 'original', 'text', '.', 'In', 'the', 'next', 'sections', ',', 'I', 'will', 'discuss', 'different', 'extractive', 'and', 'abstractive', 'methods', '.', 'At', 'the', 'end', ',', 'you', 'can', 'compare', 'the', 'results', 'and', 'know', 'for', 'yourself', 'the', 'advantages', 'and', 'limitations', 'of', 'each', 'method']\n"
     ]
    }
   ],
   "source": [
    "tokens = [token.text for token in doc]\n",
    "print(tokens)"
   ]
  },
  {
   "cell_type": "markdown",
   "id": "4115d8aa",
   "metadata": {},
   "source": [
    "# Text cleaning"
   ]
  },
  {
   "cell_type": "code",
   "execution_count": 9,
   "id": "08b8ba37",
   "metadata": {
    "scrolled": true
   },
   "outputs": [
    {
     "data": {
      "text/plain": [
       "'!\"#$%&\\'()*+,-./:;<=>?@[\\\\]^_`{|}~'"
      ]
     },
     "execution_count": 9,
     "metadata": {},
     "output_type": "execute_result"
    }
   ],
   "source": [
    "punctuation"
   ]
  },
  {
   "cell_type": "code",
   "execution_count": 53,
   "id": "40b15b2c",
   "metadata": {},
   "outputs": [],
   "source": [
    "word_frequencies = {}\n",
    "for word in doc:\n",
    "    if word.text.lower() not in stopwords:\n",
    "        if word.text.lower() not in punctuation:\n",
    "            if word.text not in word_frequencies.keys():\n",
    "                word_frequencies[word.text] = 1\n",
    "            else:\n",
    "                word_frequencies[word.text] +=1"
   ]
  },
  {
   "cell_type": "code",
   "execution_count": 54,
   "id": "a2418db1",
   "metadata": {},
   "outputs": [
    {
     "name": "stdout",
     "output_type": "stream",
     "text": [
      "{'Text': 3, 'summarization': 1, 'methods': 3, 'grouped': 1, 'main': 2, 'categories': 1, 'Extractive': 2, 'Abstractive': 2, 'Summarization': 2, 'traditional': 1, 'method': 3, 'developed': 1, 'objective': 1, 'identify': 2, 'significant': 1, 'sentences': 3, 'text': 4, 'add': 1, 'summary': 3, 'need': 1, 'note': 1, 'obtained': 1, 'contains': 1, 'exact': 1, 'original': 2, 'advanced': 1, 'advancements': 1, 'coming': 1, 'frequently(I': 1, 'cover': 1, 'best': 1, 'approach': 1, 'important': 1, 'sections': 2, 'interpret': 1, 'context': 1, 'reproduce': 1, 'new': 1, 'way': 1, 'ensures': 1, 'core': 1, 'information': 1, 'conveyed': 1, 'shortest': 1, 'possible': 1, 'Note': 1, 'generated': 1, 'extracted': 1, 'discuss': 1, 'different': 1, 'extractive': 1, 'abstractive': 1, 'end': 1, 'compare': 1, 'results': 1, 'know': 1, 'advantages': 1, 'limitations': 1}\n"
     ]
    }
   ],
   "source": [
    "print(word_frequencies)"
   ]
  },
  {
   "cell_type": "code",
   "execution_count": 55,
   "id": "096af03f",
   "metadata": {},
   "outputs": [
    {
     "data": {
      "text/plain": [
       "4"
      ]
     },
     "execution_count": 55,
     "metadata": {},
     "output_type": "execute_result"
    }
   ],
   "source": [
    "max_freqyency = max(word_frequencies.values())\n",
    "max_freqyency"
   ]
  },
  {
   "cell_type": "code",
   "execution_count": 56,
   "id": "8da7d90f",
   "metadata": {},
   "outputs": [
    {
     "name": "stdout",
     "output_type": "stream",
     "text": [
      "{'Text': 0.75, 'summarization': 0.25, 'methods': 0.75, 'grouped': 0.25, 'main': 0.5, 'categories': 0.25, 'Extractive': 0.5, 'Abstractive': 0.5, 'Summarization': 0.5, 'traditional': 0.25, 'method': 0.75, 'developed': 0.25, 'objective': 0.25, 'identify': 0.5, 'significant': 0.25, 'sentences': 0.75, 'text': 1.0, 'add': 0.25, 'summary': 0.75, 'need': 0.25, 'note': 0.25, 'obtained': 0.25, 'contains': 0.25, 'exact': 0.25, 'original': 0.5, 'advanced': 0.25, 'advancements': 0.25, 'coming': 0.25, 'frequently(I': 0.25, 'cover': 0.25, 'best': 0.25, 'approach': 0.25, 'important': 0.25, 'sections': 0.5, 'interpret': 0.25, 'context': 0.25, 'reproduce': 0.25, 'new': 0.25, 'way': 0.25, 'ensures': 0.25, 'core': 0.25, 'information': 0.25, 'conveyed': 0.25, 'shortest': 0.25, 'possible': 0.25, 'Note': 0.25, 'generated': 0.25, 'extracted': 0.25, 'discuss': 0.25, 'different': 0.25, 'extractive': 0.25, 'abstractive': 0.25, 'end': 0.25, 'compare': 0.25, 'results': 0.25, 'know': 0.25, 'advantages': 0.25, 'limitations': 0.25}\n"
     ]
    }
   ],
   "source": [
    "# normalize frequencies\n",
    "for word in word_frequencies.keys():\n",
    "    word_frequencies[word] = word_frequencies[word] / max_freqyency \n",
    "    \n",
    "print(word_frequencies)"
   ]
  },
  {
   "cell_type": "code",
   "execution_count": 57,
   "id": "a6d52483",
   "metadata": {},
   "outputs": [
    {
     "name": "stdout",
     "output_type": "stream",
     "text": [
      "[Text summarization methods can be grouped into two main categories: Extractive and Abstractive methods , Extractive Text Summarization It is the traditional method developed first., The main objective is to identify the significant sentences of the text and add them to the summary., You need to note that the summary obtained contains exact sentences from the original text., *, Abstractive Text Summarization It is a more advanced method, many advancements keep coming out, frequently(I will cover some of the best here)., The approach is to identify the important sections, interpret the context and reproduce in a new way., This ensures that the core information is conveyed through shortest text possible., Note that here, the sentences in summary are generated, not just extracted from original text., In the next sections, I will discuss different extractive and abstractive methods., At the end, you can compare the results and know for yourself the advantages and limitations of each method]\n"
     ]
    }
   ],
   "source": [
    "sent_tokens = [sent for sent in doc.sents]\n",
    "print(sent_tokens)"
   ]
  },
  {
   "cell_type": "code",
   "execution_count": 58,
   "id": "8a4299ff",
   "metadata": {},
   "outputs": [],
   "source": [
    "sentence_score = {}\n",
    "for sent in sent_tokens:\n",
    "    for word in sent:\n",
    "        if word.text.lower() in word_frequencies.keys():\n",
    "            if sent not in sentence_score.keys():\n",
    "                sentence_score[sent] = word_frequencies[word.text.lower()]\n",
    "            else:\n",
    "                sentence_score[sent] += word_frequencies[word.text.lower()]"
   ]
  },
  {
   "cell_type": "code",
   "execution_count": 59,
   "id": "9b733d2b",
   "metadata": {},
   "outputs": [
    {
     "data": {
      "text/plain": [
       "{Text summarization methods can be grouped into two main categories: Extractive and Abstractive methods , Extractive Text Summarization It is the traditional method developed first.: 7.0,\n",
       " The main objective is to identify the significant sentences of the text and add them to the summary.: 4.25,\n",
       " You need to note that the summary obtained contains exact sentences from the original text.: 4.25,\n",
       " Abstractive Text Summarization It is a more advanced method, many advancements keep coming out: 3.0,\n",
       " frequently(I will cover some of the best here).: 0.5,\n",
       " The approach is to identify the important sections, interpret the context and reproduce in a new way.: 2.75,\n",
       " This ensures that the core information is conveyed through shortest text possible.: 2.5,\n",
       " Note that here, the sentences in summary are generated, not just extracted from original text.: 3.75,\n",
       " In the next sections, I will discuss different extractive and abstractive methods.: 2.25,\n",
       " At the end, you can compare the results and know for yourself the advantages and limitations of each method: 2.25}"
      ]
     },
     "execution_count": 59,
     "metadata": {},
     "output_type": "execute_result"
    }
   ],
   "source": [
    "sentence_score"
   ]
  },
  {
   "cell_type": "code",
   "execution_count": 60,
   "id": "d41a6035",
   "metadata": {},
   "outputs": [],
   "source": [
    "from heapq import nlargest"
   ]
  },
  {
   "cell_type": "code",
   "execution_count": 65,
   "id": "fff7878d",
   "metadata": {},
   "outputs": [
    {
     "data": {
      "text/plain": [
       "3"
      ]
     },
     "execution_count": 65,
     "metadata": {},
     "output_type": "execute_result"
    }
   ],
   "source": [
    "select_length = int(len(sent_tokens)*0.3)\n",
    "select_length"
   ]
  },
  {
   "cell_type": "code",
   "execution_count": 69,
   "id": "893ea7cd",
   "metadata": {},
   "outputs": [
    {
     "data": {
      "text/plain": [
       "[Text summarization methods can be grouped into two main categories: Extractive and Abstractive methods , Extractive Text Summarization It is the traditional method developed first.,\n",
       " The main objective is to identify the significant sentences of the text and add them to the summary.,\n",
       " You need to note that the summary obtained contains exact sentences from the original text.]"
      ]
     },
     "execution_count": 69,
     "metadata": {},
     "output_type": "execute_result"
    }
   ],
   "source": [
    "summary = nlargest(select_length , sentence_score, key =sentence_score.get)\n",
    "summary"
   ]
  },
  {
   "cell_type": "code",
   "execution_count": 71,
   "id": "c41a3bd4",
   "metadata": {},
   "outputs": [],
   "source": [
    "final = [word.text for word in summary]\n",
    "summary = ' '.join(final)"
   ]
  },
  {
   "cell_type": "code",
   "execution_count": 72,
   "id": "937f5c3f",
   "metadata": {},
   "outputs": [
    {
     "name": "stdout",
     "output_type": "stream",
     "text": [
      "Text summarization methods can be grouped into two main categories: Extractive and Abstractive methods , Extractive Text Summarization It is the traditional method developed first. The main objective is to identify the significant sentences of the text and add them to the summary. You need to note that the summary obtained contains exact sentences from the original text.\n"
     ]
    }
   ],
   "source": [
    "print(summary)"
   ]
  },
  {
   "cell_type": "code",
   "execution_count": 73,
   "id": "45c7200f",
   "metadata": {},
   "outputs": [
    {
     "data": {
      "text/plain": [
       "(989, 373)"
      ]
     },
     "execution_count": 73,
     "metadata": {},
     "output_type": "execute_result"
    }
   ],
   "source": [
    "len(text) , len(summary)"
   ]
  },
  {
   "cell_type": "code",
   "execution_count": null,
   "id": "5ff6bea3",
   "metadata": {},
   "outputs": [],
   "source": []
  }
 ],
 "metadata": {
  "kernelspec": {
   "display_name": "Python 3 (ipykernel)",
   "language": "python",
   "name": "python3"
  },
  "language_info": {
   "codemirror_mode": {
    "name": "ipython",
    "version": 3
   },
   "file_extension": ".py",
   "mimetype": "text/x-python",
   "name": "python",
   "nbconvert_exporter": "python",
   "pygments_lexer": "ipython3",
   "version": "3.8.5"
  }
 },
 "nbformat": 4,
 "nbformat_minor": 5
}
